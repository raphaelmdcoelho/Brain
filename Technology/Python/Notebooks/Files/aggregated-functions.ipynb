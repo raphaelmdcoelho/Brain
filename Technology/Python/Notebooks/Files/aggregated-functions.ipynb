{
 "cells": [
  {
   "cell_type": "code",
   "execution_count": 28,
   "metadata": {},
   "outputs": [
    {
     "name": "stdout",
     "output_type": "stream",
     "text": [
      "  Product Region  Sales\n",
      "0       A  North    120\n",
      "1       B   East    300\n",
      "2       C  South     28\n",
      "3       A  South     50\n",
      "<bound method NDFrame.tail of   Product Region  Sales\n",
      "0       A  North    120\n",
      "1       B   East    300\n",
      "2       C  South     28\n",
      "3       A  South     50>\n",
      "Product    object\n",
      "Region     object\n",
      "Sales       int64\n",
      "dtype: object\n"
     ]
    }
   ],
   "source": [
    "import pandas as pd\n",
    "\n",
    "#create a DataFrame (dictionary):\n",
    "data = {\n",
    "\t'Product': ['A', 'B', 'C', 'A'],\n",
    "\t'Region': ['North', 'East', 'South', 'South'],\n",
    "\t'Sales': [120, 300, 28, 50]\n",
    "}\n",
    "\n",
    "df = pd.DataFrame(data)\n",
    "print(df)\n",
    "print(df.tail)\n",
    "print(df.dtypes)"
   ]
  },
  {
   "cell_type": "code",
   "execution_count": 29,
   "metadata": {},
   "outputs": [
    {
     "name": "stdout",
     "output_type": "stream",
     "text": [
      "Product\n",
      "A    170\n",
      "B    300\n",
      "C     28\n",
      "Name: Sales, dtype: int64\n"
     ]
    }
   ],
   "source": [
    "sales_sum_by_product = df.groupby('Product')['Sales'].sum()\n",
    "print(sales_sum_by_product)"
   ]
  }
 ],
 "metadata": {
  "kernelspec": {
   "display_name": "Python 3",
   "language": "python",
   "name": "python3"
  },
  "language_info": {
   "codemirror_mode": {
    "name": "ipython",
    "version": 3
   },
   "file_extension": ".py",
   "mimetype": "text/x-python",
   "name": "python",
   "nbconvert_exporter": "python",
   "pygments_lexer": "ipython3",
   "version": "3.11.3"
  }
 },
 "nbformat": 4,
 "nbformat_minor": 2
}
